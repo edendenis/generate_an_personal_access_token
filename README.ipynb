{
 "cells": [
  {
   "cell_type": "markdown",
   "metadata": {
    "vscode": {
     "languageId": "plaintext"
    }
   },
   "source": [
    "<!-- LOGOTIPO DO PROJETO -->\n",
    "<div style=\"display: flex; justify-content: center;\">\n",
    "   <a href=\"https://github.com/edendenis/git\">\n",
    "     <img src=\"figures/gold_edf_technology_logo_transparent_background_and_gold_name.png\" alt=\"Logo\" width=\"160\" height=\"160\">\n",
    "   </a>\n",
    "</div>\n",
    "\n",
    "<h3 align=\"center\">Configurar/Instalar/Usar o `Token de Acesso Pessoal (PAT)` no `Linux Ubuntu`</h3>\n",
    "\n",
    "<!-- <div style=\"display: flex; justify-content: center;\">\n",
    "  <a href=\"https://zenodo.org/doi/10.5281/zenodo.10668919\">\n",
    "    <img src=\"https://zenodo.org/badge/758237447.svg\" alt=\"DOI\">\n",
    "  </a>\n",
    "</div> -->\n",
    "\n",
    "<p align=\"center\">\n",
    " Neste documento estão contidos os principais comandos para configurar/instalar/usar o `Git`.\n",
    " <br />\n",
    " <a href=\"https://github.com/edendenis/git\"><strong>Explore os documentos »</strong></a>\n",
    " <br />\n",
    " <br />\n",
    " <a href=\"https://github.com/edendenis/git\">Ver demonstração</a>\n",
    " ·\n",
    " <a href=\"https://github.com/edendenis/git\">Relatar bug</a>\n",
    " ·\n",
    " <a href=\"https://github.com/edendenis/git\">Solicitar recurso</a>\n",
    "</p>\n"
   ]
  },
  {
   "cell_type": "markdown",
   "metadata": {},
   "source": [
    "# Configurar/Instalar/Usar o `Token de Acesso Pessoal (PAT)` e descrição dos seus principais comandos\n",
    "\n",
    "## Resumo\n",
    "\n",
    "Neste documento estão contidos os principais comandos para configurar/instalar/usar o `Token de Acesso Pessoal (PAT)`.\n",
    "\n",
    "## _Abstract_\n",
    "\n",
    "_This document contains the main commands for configuring/installing/using the `Personal Access Token (PAT)`._\n"
   ]
  },
  {
   "cell_type": "markdown",
   "metadata": {},
   "source": [
    "## Descrição [2]\n",
    "\n",
    "### `Token de Acesso Pessoal (Personal Access Token, PAT)`\n",
    "\n",
    "Um `Token de Acesso Pessoal (PAT)` é uma forma de autenticação utilizada em sistemas e serviços online para conceder acesso seguro a recursos específicos. Ele geralmente é composto por uma sequência única de caracteres ou números, que pode ser gerada automaticamente ou definida pelo usuário. Esses tokens são usados em conjunto com o nome de usuário e senha para verificar a identidade do usuário e autorizar o acesso a informações ou funcionalidades restritas. Eles são especialmente úteis em ambientes onde a segurança é uma prioridade, oferecendo uma camada adicional de proteção além das credenciais tradicionais."
   ]
  },
  {
   "cell_type": "markdown",
   "metadata": {
    "vscode": {
     "languageId": "plaintext"
    }
   },
   "source": [
    "Para resolver o problema de autenticação ao usar o git push no `GitHub`, você precisa usar um `Token de Acesso Pessoal (PAT)` em vez de sua senha. A autenticação por senha foi desativada em agosto de 2021. Aqui estão os passos para gerar um `Token de Acesso Pessoal (PAT)` e configurá-lo no `Git`:\n",
    "\n",
    "### Passo 1: Gerar um Token de Acesso Pessoal (PAT)\n",
    "\n",
    "1. **Acesse o `GitHub`**: Vá para `GitHub` e faça login na sua conta.\n",
    "\n",
    "2. **Navegue até Configurações**: Clique no ícone do seu perfil no canto superior direito e selecione `\"Settings\"`.\n",
    "\n",
    "3. **Acesse os Tokens**:\n",
    "\n",
    "    3.1 No menu à esquerda, clique em `\"Developer settings\"`.\n",
    "\n",
    "    3.2 Em seguida, clique em `\"Personal access tokens\"` e depois em `\"Tokens (classic)\"`.\n",
    "\n",
    "4. **Gerar Novo Token**:\n",
    "\n",
    "    4.1 Clique em `\"Generate new token\"`.\n",
    "\n",
    "    4.2 Adicione uma nota para o token, selecione as permissões necessárias (pelo menos \"repo\" para acesso aos repositórios) e defina a validade do token.\n",
    "\n",
    "    4.3 Clique em `\"Generate token\"` no final da página.\n",
    "\n",
    "5. **Copiar o Token**: Copie o token gerado e guarde-o em um local seguro. Você não poderá vê-lo novamente."
   ]
  },
  {
   "cell_type": "markdown",
   "metadata": {
    "vscode": {
     "languageId": "plaintext"
    }
   },
   "source": [
    "### Passo 2: Configurar o Git para Usar o Token\n",
    "\n",
    "1. **Atualizar o URL do Repositório**:\n",
    "\n",
    "    1.1 No terminal, navegue até o diretório do seu repositório local.\n",
    "\n",
    "    1.2 Atualize o URL remoto para incluir seu token de acesso pessoal: `git remote set-url origin https://<TOKEN>@github.com/edendenis/<nome_do_repositorio_git>.git`\n",
    "\n",
    "    Substitua `<TOKEN>` pelo token que você gerou.\n",
    "\n",
    "2. **Executar o `Git Push`**: Agora, você deve conseguir executar o git push sem problemas: `git push`\n"
   ]
  },
  {
   "cell_type": "markdown",
   "metadata": {
    "vscode": {
     "languageId": "plaintext"
    }
   },
   "source": [
    "### Alternativa: Usar Git Credential Manager\n",
    "\n",
    "Outra alternativa é usar o Git Credential Manager, que gerencia as credenciais de forma segura:\n",
    "\n",
    "1. **Instalar o Git Credential Manager**: No `Windows`, ele já vem com a instalação do `Git`. No `macOS` e `Linux`, você pode instalar seguindo as instruções na página oficial.\n",
    "\n",
    "2. **Configurar o Git Credential Manager**: Execute o comando: `git config --global credential.helper manager-core`\n",
    "\n",
    "3. **Autenticar no `GitHub`**: Quando você executar `git push`, uma janela pop-up solicitará seu token ou redirecionará para a autenticação no navegador.\n",
    "\n",
    "### Referência\n",
    "\n",
    "Para mais informações sobre como usar tokens de acesso pessoal com `GitHub`, você pode consultar a documentação oficial do `GitHub`."
   ]
  },
  {
   "cell_type": "markdown",
   "metadata": {},
   "source": [
    "<!-- LICENÇA -->\n",
    "## Licença\n",
    "\n",
    "Distribuído sob a licença MIT. Consulte `LICENSE.txt` para obter mais informações.\n",
    "\n",
    "<p align=\"right\">(<a href=\"#readme-top\">voltar ao topo</a>)</p>"
   ]
  },
  {
   "cell_type": "markdown",
   "metadata": {},
   "source": [
    "<!-- ROTEIRO -->\n",
    "## Roteiro\n",
    "\n",
    "- [x] Adicionar registro de alterações\n",
    "- [x] Adicionar links de volta ao topo\n",
    "- [x] Adicionar modelos adicionais com exemplos\n",
    "- [x] Suporte multilíngue\n",
    "     - [ ] Espanhol\n",
    "     - [ ] Inglês\n",
    "     - [ ] Português\n",
    "     - [x] Português brasileiro \n",
    "\n",
    "Consulte os [problemas abertos](https://github.com/edendenis/google_chrome/issues) para obter uma lista completa dos recursos propostos (e problemas conhecidos).\n",
    "\n",
    "<p align=\"right\">(<a href=\"#readme-top\">voltar ao topo</a>)</p>\n"
   ]
  },
  {
   "cell_type": "markdown",
   "metadata": {},
   "source": [
    "<!-- CONTRIBUIÇÔES -->\n",
    "## Contribuições\n",
    "\n",
    "As contribuições são o que tornam a comunidade de código aberto um lugar incrível para aprender, inspirar e criar. Qualquer contribuição que você fizer será **muito apreciada**.\n",
    "\n",
    "Se você tiver uma sugestão que possa melhorar isso, bifurque o repositório e crie uma solicitação `pull`. Você também pode simplesmente abrir um problema com a tag “aprimoramento”.\n",
    "Não se esqueça de dar uma estrela ao projeto! Obrigado novamente!\n",
    "\n",
    "1. Bifurque o projeto\n",
    "2. Crie sua ramificação de recursos (`git checkout -b feature/AmazingFeature`)\n",
    "3. Confirme suas alterações (`git commit -m 'Add some AmazingFeature'`)\n",
    "4. Envie para a filial (`git push origin feature/AmazingFeature`)\n",
    "5. Abra uma solicitação pull\n",
    "\n",
    "<p align=\"right\">(<a href=\"#readme-top\">voltar ao topo</a>)</p>\n"
   ]
  },
  {
   "cell_type": "markdown",
   "metadata": {},
   "source": [
    "<!-- ACKNOWLEDGMENTS -->\n",
    "## Agradecimentos\n",
    "\n",
    "* [Best README Template](https://github.com/othneildrew/Best-README-Template?tab=readme-ov-file)\n",
    "* [Choose an Open Source License](https://choosealicense.com)\n",
    "* [GitHub Emoji Cheat Sheet](https://www.webpagefx.com/tools/emoji-cheat-sheet)\n",
    "* [Malven's Flexbox Cheatsheet](https://flexbox.malven.co/)\n",
    "* [Malven's Grid Cheatsheet](https://grid.malven.co/)\n",
    "* [Img Shields](https://shields.io)\n",
    "* [GitHub Pages](https://pages.github.com)\n",
    "* [Font Awesome](https://fontawesome.com)\n",
    "* [React Icons](https://react-icons.github.io/react-icons/search)\n",
    "\n",
    "<p align=\"right\">(<a href=\"#readme-top\">voltar ao topo</a>)</p>\n"
   ]
  },
  {
   "cell_type": "markdown",
   "metadata": {
    "vscode": {
     "languageId": "plaintext"
    }
   },
   "source": [
    "## Referências\n",
    "\n",
    "[1] OPEN AI. ***Authenticate git with pat.*** Disponível em: <hhttps://chatgpt.com/c/4a850364-d648-4f2b-b135-76adfac65ba3> (texto adaptado). ChatGPT. Acessado em: 03/08/2023 09:09.\n",
    "\n",
    "[2] OPENAI. ***Vs code: editor popular.*** Disponível em: <https://chat.openai.com/c/b640a25d-f8e3-4922-8a3b-ed74a2657e42> (texto adaptado). ChatGPT. Acessado em: 22/12/2023 11:36.\n"
   ]
  }
 ],
 "metadata": {
  "kernelspec": {
   "display_name": "Python 3",
   "language": "python",
   "name": "python3"
  },
  "language_info": {
   "codemirror_mode": {
    "name": "ipython",
    "version": 3
   },
   "file_extension": ".py",
   "mimetype": "text/x-python",
   "name": "python",
   "nbconvert_exporter": "python",
   "pygments_lexer": "ipython3",
   "version": "3.1.0"
  },
  "orig_nbformat": 4
 },
 "nbformat": 4,
 "nbformat_minor": 2
}
